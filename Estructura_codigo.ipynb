{
 "cells": [
  {
   "cell_type": "code",
   "execution_count": 5,
   "metadata": {},
   "outputs": [],
   "source": [
    "import numpy as np\n",
    "import math \n",
    "import random"
   ]
  },
  {
   "cell_type": "markdown",
   "metadata": {},
   "source": [
    "### FUNCIONES/METODOS\n",
    "\n",
    "\n",
    "1. Hay que hacer distintos tipos de funciones:\n",
    "    * Métodos:\n",
    "        * Creacion de barcos, para la maquina (puede ser crear barcos predeterminados para usuario).\n",
    "            * Cuidar que no se salga de la matriz, no se sobreponga con otros, ni que este continuo.\n",
    "        * Creacion de tablero y que se actualize (de doble capa).\n",
    "\n",
    "    * Para while:\n",
    "        * Randomizador de disparos de maquina:\n",
    "            * Que no dispare al mismo lugar dos veces (poner nivel de dificultad si alcanza el tiempo) y que si da al objtivo ataque dos veces, esto va para ambos.\n",
    "\n",
    "Ir agregando conforme se vaya gestionando el proyecto."
   ]
  },
  {
   "attachments": {},
   "cell_type": "markdown",
   "metadata": {},
   "source": [
    "#### Tablero:"
   ]
  },
  {
   "cell_type": "code",
   "execution_count": 6,
   "metadata": {},
   "outputs": [
    {
     "name": "stdout",
     "output_type": "stream",
     "text": [
      "asi estaran ubicados sus barcos\n"
     ]
    },
    {
     "data": {
      "text/plain": [
       "array([[' ', 'O', ' ', ' ', ' ', ' ', ' ', ' ', ' ', 'O'],\n",
       "       [' ', 'O', ' ', 'O', 'O', 'O', ' ', ' ', ' ', 'O'],\n",
       "       [' ', ' ', ' ', ' ', ' ', ' ', ' ', ' ', ' ', ' '],\n",
       "       [' ', ' ', ' ', ' ', ' ', ' ', ' ', ' ', ' ', ' '],\n",
       "       [' ', ' ', ' ', 'O', 'O', 'O', 'O', ' ', ' ', ' '],\n",
       "       [' ', 'O', ' ', ' ', ' ', ' ', ' ', ' ', 'O', ' '],\n",
       "       [' ', ' ', ' ', ' ', ' ', ' ', ' ', ' ', ' ', ' '],\n",
       "       [' ', ' ', ' ', ' ', ' ', ' ', ' ', 'O', ' ', ' '],\n",
       "       [' ', ' ', ' ', ' ', ' ', ' ', ' ', ' ', ' ', ' '],\n",
       "       [' ', 'O', 'O', ' ', 'O', 'O', 'O', ' ', ' ', ' ']], dtype='<U1')"
      ]
     },
     "execution_count": 6,
     "metadata": {},
     "output_type": "execute_result"
    }
   ],
   "source": [
    "# Generacion de tablero_jugador\n",
    "tablero_jugador=np.full((10,10),' ')\n",
    "\n",
    "\n",
    "\n",
    "def barcos_jugador (barcos):\n",
    "    for i in barcos:\n",
    "        for a in i:\n",
    "            tablero_jugador[a]= \"O\"\n",
    "    print(\"asi estaran ubicados sus barcos\")\n",
    "    return tablero_jugador  \n",
    "\n",
    "barcos_jugador(([(0,1), (1,1)] , [(0,9), (1,9)] , [(9,1), (9,2)] , [(4,3), (4,4), (4,5), (4,6)]  , [(1,3), (1,4), (1,5)] , [(9,4), (9,5), (9,6)] , [(5,1)] , [(4,6)] ,[(5,8)] , [(7,7)]))  "
   ]
  },
  {
   "attachments": {},
   "cell_type": "markdown",
   "metadata": {},
   "source": [
    "##### Barcos:"
   ]
  },
  {
   "cell_type": "code",
   "execution_count": 7,
   "metadata": {},
   "outputs": [],
   "source": [
    "# Generador de barco maquina\n",
    "barco_maquina = []\n",
    "\n",
    "def generar_b_aleatorio(eslora):\n",
    "\n",
    "    barco_maq = []\n",
    "    \n",
    "    fila_random = random.randint(0,9)\n",
    "    columna_random = random.randint(0,9)\n",
    "    while (fila_random, columna_random) in barco_maquina:\n",
    "        fila_random = random.randint(0,9)\n",
    "        columna_random = random.randint(0,9)\n",
    "    orien = random.choice([\"Norte\", \"Sur\", \"Este\", \"Oeste\"])\n",
    "    if (columna_random+eslora)>9 and orien==\"Este\":\n",
    "        orien=\"Oeste\"\n",
    "    elif (fila_random+eslora)>9 and orien==\"Sur\":\n",
    "        orien=\"Norte\"\n",
    "    elif (columna_random-eslora)<0 and orien==\"Oeste\":\n",
    "        orien=\"Este\"\n",
    "    elif (fila_random-eslora)<0 and orien==\"Norte\":\n",
    "        orien=\"Sur\"\n",
    "    barco_maquina.append((fila_random,columna_random))\n",
    "    barco_maq.append((fila_random,columna_random))     \n",
    "\n",
    "\n",
    "    while len(barco_maq) < eslora:\n",
    "        if orien == \"Norte\":\n",
    "                fila_random = fila_random - 1\n",
    "        if orien == \"Sur\":\n",
    "                fila_random = fila_random + 1\n",
    "        if orien == \"Este\":\n",
    "                columna_random = columna_random + 1\n",
    "        if orien == \"Oeste\":\n",
    "                columna_random = columna_random - 1\n",
    "        barco_maquina.append((fila_random,columna_random))\n",
    "        barco_maq.append((fila_random,columna_random))\n",
    "\n",
    "    return barco_maq"
   ]
  },
  {
   "cell_type": "code",
   "execution_count": 15,
   "metadata": {},
   "outputs": [],
   "source": [
    "# Creacion de tablero maquina\n",
    "tablero_maquina_2=np.full((10,10),' ')\n",
    "tablero_maquina_1=np.full((10,10),' ')\n",
    "barco_maquina = []\n",
    "def tablero_maquina():\n",
    "  \n",
    "    \n",
    "    a=1\n",
    "    generar_b_aleatorio(4)\n",
    "\n",
    "    while a<=4:\n",
    "        generar_b_aleatorio(1)\n",
    "        if a<=2:\n",
    "            generar_b_aleatorio(3)\n",
    "        if a<4:\n",
    "            generar_b_aleatorio(2)\n",
    "\n",
    "        a=a+1\n",
    "    for i in barco_maquina:\n",
    "        tablero_maquina_1[i]= \"O\"\n",
    "    return tablero_maquina_1\n",
    "\n",
    "tablero_maquina()\n",
    "if \"O\" not in tablero_maquina_1:\n",
    "    print(\"has ganado \")"
   ]
  },
  {
   "attachments": {},
   "cell_type": "markdown",
   "metadata": {},
   "source": [
    "#### Disparo:"
   ]
  },
  {
   "cell_type": "code",
   "execution_count": 9,
   "metadata": {},
   "outputs": [],
   "source": [
    "#Modelo de disparo Persona\n",
    "def disparar(fila,columna):\n",
    "    if tablero_maquina_1[fila,columna] == \"O\":\n",
    "        print(\"Has acertado\")\n",
    "        tablero_maquina_1[fila,columna] = \"X\"\n",
    "        tablero_maquina_2[fila,columna] = \"X\"\n",
    "        fila=int(input(\"escoja fila: \"))\n",
    "        columna=int(input(\"escoja columna: \"))\n",
    "        disparar(fila,columna)\n",
    "    elif tablero_maquina_1[fila,columna] == \" \":\n",
    "        print(\"Has fallado\")\n",
    "        tablero_maquina_1[fila,columna] = \"-\"\n",
    "        tablero_maquina_2[fila,columna] = \"-\"\n",
    "    elif tablero_maquina_1[fila,columna] == \"-\" or tablero_maquina_1[fila,columna] == \"X\":\n",
    "        print(\"capitan ya disparo a ese lugar antes, tomese este combate enserio\")\n",
    "        fila=int(input(\"escoja fila: \"))\n",
    "        columna=int(input(\"escoja columna: \"))\n",
    "        disparar(fila,columna)\n",
    "    return tablero_maquina_2"
   ]
  },
  {
   "cell_type": "code",
   "execution_count": 10,
   "metadata": {},
   "outputs": [],
   "source": [
    "# Disparo de la maquina. \n",
    "\n",
    "registro_disparos=[]\n",
    "def disparo_maquina ():\n",
    "    fila_disparo = random.randint(0,9)\n",
    "    columna_disparo = random.randint(0,9)\n",
    "    while (fila_disparo, columna_disparo) in registro_disparos:\n",
    "        fila_disparo= random.randint(0,9)\n",
    "        columna_disparo = random.randint(0,9)\n",
    "    registro_disparos.append([fila_disparo,columna_disparo])\n",
    "    if tablero_jugador[fila_disparo,columna_disparo] == \"O\":\n",
    "        print(\"Él enemigo ha acertado\")\n",
    "        tablero_jugador[fila_disparo,columna_disparo] = \"X\"\n",
    "        disparo_maquina()\n",
    "    elif tablero_jugador[fila_disparo,columna_disparo] == \" \":\n",
    "        print(\"Él enemigo ha fallado\")\n",
    "        tablero_jugador[fila_disparo,columna_disparo] = \"-\"\n",
    "    return tablero_jugador\n",
    "\n",
    "\n",
    " "
   ]
  },
  {
   "cell_type": "markdown",
   "metadata": {},
   "source": [
    "### PRESENTACION DE CODIGO\n",
    "\n",
    "3. Una vez ya tienes modelizado tu tablero, hay que montar el programa que se ejecutara desde un **main.py**:\n",
    "    * El programa no es más que el **típico `while true: `, con una serie de inputs del usuario**. Se está ejecutando constantemente y le pide al usuario coordenadas para comprobar si impacta.\n",
    "    * Cuando arranque el programa, primero pon algún mensaje de bienvenida y las instrucciones del juego.\n",
    "    * A continuación **inicializa los tableros de ambos jugadores** con los barcos. Estas dos primeras acciones solo se ejecutan una vez!! Que es el comienzo del juego.\n",
    "    * Después de eso ya comienza el juego. Básicamente **se irá ejecutando iterativamente en el `while`, y le irá preguntando coordenadas al usuario.**\n",
    "    * Recoges coordenadas, compruebas en el tablero de la máquina si habia barco.\n",
    "        * Hay barco: marca en el tablero de la maquina el impacto y le vuelve a tocar al usuario\n",
    "        * No hay barco: le toca a la maquina. O lo que es lo mismo, escoge una coordenada aleatoria, y comprueba en el tablero del usuario si habia barco.\n",
    "    * **Así hasta que uno de los dos jugadores se quede sin barcos, y termina el juego.**\n",
    "    * Cuando empiece tu turno deberías imprimir por pantalla tu tablero, para ver cuántos impactos te ha hecho la máquina, así como el tablero con los impactos que has hecho tu en el adversario, de manera que te sirva de ayuda para el siguiente disparo.\n",
    "    * Todas aquellas funciones que puedas construir para la ejecución de este programa deberán estar definidas en un script que se llame **funciones.py**.\n"
   ]
  },
  {
   "cell_type": "code",
   "execution_count": 14,
   "metadata": {},
   "outputs": [
    {
     "name": "stdout",
     "output_type": "stream",
     "text": [
      "bienvenido al juego de battleship\n",
      "los barcos se pondran de manera aleatoria\n",
      "asi estaran ubicados sus barcos\n",
      "[[' ' 'O' ' ' ' ' ' ' ' ' ' ' ' ' ' ' 'O']\n",
      " [' ' 'O' ' ' 'O' 'O' 'O' ' ' ' ' ' ' 'O']\n",
      " [' ' ' ' ' ' ' ' ' ' ' ' ' ' ' ' ' ' ' ']\n",
      " [' ' ' ' ' ' ' ' ' ' ' ' ' ' ' ' ' ' ' ']\n",
      " [' ' ' ' ' ' 'O' 'O' 'O' 'O' ' ' ' ' ' ']\n",
      " [' ' 'O' ' ' ' ' ' ' ' ' ' ' ' ' 'O' ' ']\n",
      " [' ' ' ' ' ' ' ' ' ' ' ' ' ' ' ' ' ' ' ']\n",
      " [' ' ' ' ' ' ' ' ' ' ' ' ' ' 'O' ' ' ' ']\n",
      " [' ' ' ' ' ' ' ' ' ' ' ' ' ' ' ' ' ' ' ']\n",
      " [' ' 'O' 'O' ' ' 'O' 'O' 'O' ' ' ' ' ' ']]\n",
      "tanto las filas como las columnas estaran enumeradas del 0 - 9, tenga en cuenta esto a la hora de disparar.\n",
      "Has fallado\n",
      "[[' ' ' ' ' ' ' ' ' ' ' ' ' ' ' ' ' ' ' ']\n",
      " ['-' ' ' ' ' ' ' ' ' ' ' ' ' ' ' ' ' ' ']\n",
      " [' ' ' ' ' ' ' ' ' ' ' ' ' ' ' ' ' ' ' ']\n",
      " [' ' ' ' ' ' ' ' ' ' ' ' ' ' ' ' ' ' ' ']\n",
      " [' ' ' ' ' ' ' ' ' ' ' ' ' ' ' ' ' ' ' ']\n",
      " [' ' ' ' ' ' ' ' ' ' ' ' ' ' ' ' ' ' ' ']\n",
      " [' ' ' ' ' ' ' ' ' ' ' ' ' ' ' ' ' ' ' ']\n",
      " [' ' ' ' ' ' ' ' ' ' ' ' ' ' ' ' ' ' ' ']\n",
      " [' ' ' ' ' ' ' ' ' ' ' ' ' ' ' ' ' ' ' ']\n",
      " [' ' ' ' ' ' ' ' ' ' ' ' ' ' ' ' ' ' ' ']]\n",
      "Él enemigo ha acertado\n",
      "Él enemigo ha fallado\n",
      "[[' ' 'O' ' ' ' ' ' ' ' ' ' ' ' ' ' ' 'O']\n",
      " [' ' 'O' ' ' 'O' 'O' 'O' ' ' ' ' ' ' 'O']\n",
      " [' ' ' ' ' ' ' ' ' ' ' ' ' ' ' ' ' ' ' ']\n",
      " [' ' ' ' ' ' ' ' ' ' ' ' ' ' ' ' ' ' ' ']\n",
      " [' ' ' ' ' ' 'X' 'O' 'O' 'O' ' ' ' ' ' ']\n",
      " [' ' 'O' ' ' ' ' ' ' ' ' ' ' ' ' 'O' ' ']\n",
      " [' ' ' ' ' ' ' ' ' ' ' ' ' ' ' ' ' ' ' ']\n",
      " [' ' ' ' '-' ' ' ' ' ' ' ' ' 'O' ' ' ' ']\n",
      " [' ' ' ' ' ' ' ' ' ' ' ' ' ' ' ' ' ' ' ']\n",
      " [' ' 'O' 'O' ' ' 'O' 'O' 'O' ' ' ' ' ' ']]\n",
      "Has acertado\n",
      "Has fallado\n",
      "[[' ' ' ' ' ' ' ' ' ' ' ' ' ' ' ' ' ' ' ']\n",
      " ['-' ' ' ' ' ' ' ' ' ' ' ' ' ' ' ' ' ' ']\n",
      " [' ' ' ' ' ' ' ' ' ' ' ' ' ' ' ' ' ' ' ']\n",
      " [' ' ' ' ' ' ' ' 'X' ' ' ' ' ' ' ' ' ' ']\n",
      " [' ' ' ' ' ' ' ' ' ' ' ' ' ' ' ' ' ' ' ']\n",
      " [' ' ' ' ' ' ' ' ' ' ' ' '-' ' ' ' ' ' ']\n",
      " [' ' ' ' ' ' ' ' ' ' ' ' ' ' ' ' ' ' ' ']\n",
      " [' ' ' ' ' ' ' ' ' ' ' ' ' ' ' ' ' ' ' ']\n",
      " [' ' ' ' ' ' ' ' ' ' ' ' ' ' ' ' ' ' ' ']\n",
      " [' ' ' ' ' ' ' ' ' ' ' ' ' ' ' ' ' ' ' ']]\n",
      "Él enemigo ha acertado\n",
      "Él enemigo ha fallado\n",
      "[[' ' 'O' ' ' ' ' ' ' ' ' ' ' ' ' ' ' 'O']\n",
      " [' ' 'O' ' ' 'O' 'X' 'O' ' ' ' ' ' ' 'O']\n",
      " [' ' ' ' ' ' ' ' ' ' ' ' ' ' ' ' ' ' ' ']\n",
      " [' ' ' ' ' ' ' ' ' ' ' ' ' ' ' ' ' ' ' ']\n",
      " [' ' ' ' ' ' 'X' 'O' 'O' 'O' ' ' ' ' ' ']\n",
      " [' ' 'O' ' ' ' ' ' ' ' ' ' ' ' ' 'O' ' ']\n",
      " [' ' ' ' ' ' ' ' ' ' ' ' ' ' ' ' ' ' ' ']\n",
      " [' ' ' ' '-' ' ' ' ' ' ' ' ' 'O' ' ' '-']\n",
      " [' ' ' ' ' ' ' ' ' ' ' ' ' ' ' ' ' ' ' ']\n",
      " [' ' 'O' 'O' ' ' 'O' 'O' 'O' ' ' ' ' ' ']]\n"
     ]
    },
    {
     "ename": "ValueError",
     "evalue": "invalid literal for int() with base 10: ''",
     "output_type": "error",
     "traceback": [
      "\u001b[1;31m---------------------------------------------------------------------------\u001b[0m",
      "\u001b[1;31mValueError\u001b[0m                                Traceback (most recent call last)",
      "\u001b[1;32m~\\AppData\\Local\\Temp\\ipykernel_5348\\2546572070.py\u001b[0m in \u001b[0;36m<module>\u001b[1;34m\u001b[0m\n\u001b[0;32m     10\u001b[0m \u001b[0mprint\u001b[0m\u001b[1;33m(\u001b[0m\u001b[1;34m'tanto las filas como las columnas estaran enumeradas del 0 - 9, tenga en cuenta esto a la hora de disparar.'\u001b[0m\u001b[1;33m)\u001b[0m\u001b[1;33m\u001b[0m\u001b[1;33m\u001b[0m\u001b[0m\n\u001b[0;32m     11\u001b[0m \u001b[1;32mwhile\u001b[0m \u001b[1;34m\"O\"\u001b[0m \u001b[1;32min\u001b[0m \u001b[0mtablero_jugador\u001b[0m \u001b[1;32mand\u001b[0m \u001b[1;34m\"O\"\u001b[0m \u001b[1;32min\u001b[0m \u001b[0mtablero_maquina_1\u001b[0m\u001b[1;33m:\u001b[0m\u001b[1;33m\u001b[0m\u001b[1;33m\u001b[0m\u001b[0m\n\u001b[1;32m---> 12\u001b[1;33m     \u001b[0mcolumna\u001b[0m\u001b[1;33m=\u001b[0m\u001b[0mint\u001b[0m\u001b[1;33m(\u001b[0m\u001b[0minput\u001b[0m\u001b[1;33m(\u001b[0m\u001b[1;34m\"escriba a que columna va a dispar: \"\u001b[0m\u001b[1;33m)\u001b[0m\u001b[1;33m)\u001b[0m\u001b[1;33m\u001b[0m\u001b[1;33m\u001b[0m\u001b[0m\n\u001b[0m\u001b[0;32m     13\u001b[0m     \u001b[0mfila\u001b[0m\u001b[1;33m=\u001b[0m\u001b[0mint\u001b[0m\u001b[1;33m(\u001b[0m\u001b[0minput\u001b[0m\u001b[1;33m(\u001b[0m\u001b[1;34m\"escriba a que fila va a dispar: \"\u001b[0m\u001b[1;33m)\u001b[0m\u001b[1;33m)\u001b[0m\u001b[1;33m\u001b[0m\u001b[1;33m\u001b[0m\u001b[0m\n\u001b[0;32m     14\u001b[0m     \u001b[0mprint\u001b[0m\u001b[1;33m(\u001b[0m\u001b[0mdisparar\u001b[0m\u001b[1;33m(\u001b[0m\u001b[0mcolumna\u001b[0m\u001b[1;33m,\u001b[0m\u001b[0mfila\u001b[0m\u001b[1;33m)\u001b[0m\u001b[1;33m)\u001b[0m\u001b[1;33m\u001b[0m\u001b[1;33m\u001b[0m\u001b[0m\n",
      "\u001b[1;31mValueError\u001b[0m: invalid literal for int() with base 10: ''"
     ]
    }
   ],
   "source": [
    "print(\"bienvenido al juego de battleship\")\n",
    "nombre_jugador=input(\"por favor introduzcas su nombre de jugador: \")\n",
    "print(\"los barcos se pondran de manera aleatoria\")\n",
    "\n",
    "print(barcos_jugador(([(0,1), (1,1)] , [(0,9), (1,9)] , [(9,1), (9,2)] , [(4,3), (4,4), (4,5), (4,6)]  , [(1,3), (1,4), (1,5)] , [(9,4), (9,5), (9,6)] , [(5,1)] , [(4,6)] ,[(5,8)] , [(7,7)]))) \n",
    "tablero_maquina_2=np.full((10,10),' ')\n",
    "tablero_maquina_1=np.full((10,10),' ')\n",
    "barco_maquina = []\n",
    "tablero_maquina()\n",
    "print('tanto las filas como las columnas estaran enumeradas del 0 - 9, tenga en cuenta esto a la hora de disparar.')\n",
    "while \"O\" in tablero_jugador and \"O\" in tablero_maquina_1:\n",
    "    columna=int(input(\"escriba a que columna va a dispar: \"))\n",
    "    fila=int(input(\"escriba a que fila va a dispar: \"))\n",
    "    print(disparar(columna,fila))\n",
    "    print(disparo_maquina())\n",
    "   \n",
    "if \"O\" not in tablero_jugador:\n",
    "    print(\"has ganado \"+ nombre_jugador)\n",
    "if \"O\" not in tablero_maquina_1:\n",
    "    print(\"has perdido \"+ nombre_jugador + \" has decepcionado a toda una nacion\")\n"
   ]
  }
 ],
 "metadata": {
  "kernelspec": {
   "display_name": "Python 3.7.4 64-bit",
   "language": "python",
   "name": "python3"
  },
  "language_info": {
   "codemirror_mode": {
    "name": "ipython",
    "version": 3
   },
   "file_extension": ".py",
   "mimetype": "text/x-python",
   "name": "python",
   "nbconvert_exporter": "python",
   "pygments_lexer": "ipython3",
   "version": "3.7.4"
  },
  "orig_nbformat": 4,
  "vscode": {
   "interpreter": {
    "hash": "98f313b375bd142157bd85247f9cae0a692e725b9cc4cd8be55ca840b47a019b"
   }
  }
 },
 "nbformat": 4,
 "nbformat_minor": 2
}
